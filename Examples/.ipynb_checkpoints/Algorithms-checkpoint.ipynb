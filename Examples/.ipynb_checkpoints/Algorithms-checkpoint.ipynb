{
 "cells": [
  {
   "cell_type": "code",
   "execution_count": 1,
   "metadata": {
    "collapsed": true
   },
   "outputs": [],
   "source": [
    "import os\n",
    "import sys\n",
    "module_path = os.path.abspath(os.path.join('..'))\n",
    "if module_path not in sys.path:\n",
    "    sys.path.append(module_path)\n",
    "\n",
    "from EMP.EMP import drawPuzzle, generatePuzzle, isCorrect\n",
    "import random\n",
    "import time\n"
   ]
  },
  {
   "cell_type": "markdown",
   "metadata": {},
   "source": [
    "# Algorithms to solve EMP "
   ]
  },
  {
   "cell_type": "markdown",
   "metadata": {},
   "source": [
    "### Check if grid has correct pieces using `isCorrect()`"
   ]
  },
  {
   "cell_type": "code",
   "execution_count": null,
   "metadata": {
    "collapsed": true
   },
   "outputs": [],
   "source": [
    "correctGrid, id = generatePuzzle((3,3),9,return_='grid', rotate=False, shuffle=False,seed=123)\n",
    "grid, id = generatePuzzle((3,3),9,return_='grid',seed=123)\n"
   ]
  },
  {
   "cell_type": "code",
   "execution_count": null,
   "metadata": {},
   "outputs": [],
   "source": [
    "correctGrid, id = generatePuzzle((3,3),9,return_='grid', rotate=False, shuffle=False,seed=123)\n",
    "drawPuzzle(correctGrid)"
   ]
  },
  {
   "cell_type": "code",
   "execution_count": null,
   "metadata": {},
   "outputs": [],
   "source": [
    "drawPuzzle(grid)"
   ]
  },
  {
   "cell_type": "code",
   "execution_count": null,
   "metadata": {},
   "outputs": [],
   "source": [
    "print(\"correct grid: \" + str(isCorrect(correctGrid)))\n",
    "print(\"shuffled grid: \" + str(isCorrect(grid)))"
   ]
  },
  {
   "cell_type": "markdown",
   "metadata": {},
   "source": [
    "### Random Algorithm"
   ]
  },
  {
   "cell_type": "code",
   "execution_count": null,
   "metadata": {
    "collapsed": true
   },
   "outputs": [],
   "source": [
    "from EMP.Algorithms.Random import Random"
   ]
  },
  {
   "cell_type": "code",
   "execution_count": null,
   "metadata": {
    "collapsed": true
   },
   "outputs": [],
   "source": [
    "pieces, id = generatePuzzle((3,3),3,seed=123)"
   ]
  },
  {
   "cell_type": "code",
   "execution_count": null,
   "metadata": {
    "collapsed": true
   },
   "outputs": [],
   "source": []
  },
  {
   "cell_type": "code",
   "execution_count": null,
   "metadata": {
    "collapsed": true
   },
   "outputs": [],
   "source": [
    "alg = Random(pieces, (3,3))"
   ]
  },
  {
   "cell_type": "code",
   "execution_count": null,
   "metadata": {},
   "outputs": [],
   "source": [
    "start = time.time()\n",
    "#alg.search()\n",
    "end = time.time()\n",
    "print(end - start)"
   ]
  },
  {
   "cell_type": "code",
   "execution_count": null,
   "metadata": {
    "collapsed": true
   },
   "outputs": [],
   "source": [
    "#drawPuzzle(alg.solution)"
   ]
  },
  {
   "cell_type": "code",
   "execution_count": null,
   "metadata": {
    "collapsed": true
   },
   "outputs": [],
   "source": [
    "import matplotlib.pyplot as plt"
   ]
  },
  {
   "cell_type": "code",
   "execution_count": null,
   "metadata": {
    "collapsed": true
   },
   "outputs": [],
   "source": [
    "import time"
   ]
  },
  {
   "cell_type": "code",
   "execution_count": null,
   "metadata": {},
   "outputs": [],
   "source": [
    "def redraw(fig):\n",
    "    \"\"\"\n",
    "    Redraw plot. Use after custom user modifications of axes & fig objects\n",
    "    \"\"\"\n",
    "    if plt.isinteractive():\n",
    "        #Redraw figure if it was previously closed prior to updating it\n",
    "        fig.show()\n",
    "        fig.canvas.draw()\n",
    "        plt.draw()\n",
    "\n",
    "    else:\n",
    "        print('redraw() is unsupported in non-interactive plotting mode!')\n",
    "    \n",
    "fig = plt.figure()\n",
    "ax = fig.add_subplot(111)\n",
    "ax.draw()\n",
    "ax.imshow(drawPuzzle(grid))\n",
    "redraw(fig)\n",
    "time.sleep(1)\n",
    "ax.imshow(drawPuzzle(correctGrid))\n",
    "plt.draw()\n",
    "redraw(fig)\n"
   ]
  },
  {
   "cell_type": "code",
   "execution_count": null,
   "metadata": {
    "collapsed": true
   },
   "outputs": [],
   "source": []
  },
  {
   "cell_type": "code",
   "execution_count": null,
   "metadata": {},
   "outputs": [],
   "source": []
  },
  {
   "cell_type": "code",
   "execution_count": 4,
   "metadata": {
    "collapsed": true
   },
   "outputs": [],
   "source": [
    "grid=[[[ -2 for x in range(4)]for y in range(3)] for p in range(3)]\n",
    "gridTemp=[[[ -2 for x in range(4)]for y in range(3)] for p in range(3)]"
   ]
  },
  {
   "cell_type": "code",
   "execution_count": 5,
   "metadata": {},
   "outputs": [
    {
     "data": {
      "text/plain": [
       "[[[-2, -2, -2, -2], [-2, -2, -2, -2], [-2, -2, -2, -2]],\n",
       " [[-2, -2, -2, -2], [-2, -2, -2, -2], [-2, -2, -2, -2]],\n",
       " [[-2, -2, -2, -2], [-2, -2, -2, -2], [-2, -2, -2, -2]]]"
      ]
     },
     "execution_count": 5,
     "metadata": {},
     "output_type": "execute_result"
    }
   ],
   "source": [
    "grid"
   ]
  },
  {
   "cell_type": "code",
   "execution_count": 13,
   "metadata": {
    "collapsed": true
   },
   "outputs": [],
   "source": []
  },
  {
   "cell_type": "code",
   "execution_count": 75,
   "metadata": {},
   "outputs": [
    {
     "data": {
      "image/png": "[encoded data removed]",
      "text/plain": [
       "<PIL.Image.Image image mode=RGB size=300x300 at 0x276E0A49D68>"
      ]
     },
     "execution_count": 75,
     "metadata": {},
     "output_type": "execute_result"
    }
   ],
   "source": [
    "piecesTemp, id = generatePuzzle((3,3),4,EMPType='S', seed=123)\n",
    "for row in gridTemp:\n",
    "    for piece in row:\n",
    "        piece[:] = piecesTemp.pop(0)\n",
    "drawPuzzle(gridTemp)"
   ]
  },
  {
   "cell_type": "code",
   "execution_count": 84,
   "metadata": {},
   "outputs": [],
   "source": [
    "grid=[[[ -2 for x in range(4)]for y in range(3)] for p in range(3)]\n",
    "pieces, id = generatePuzzle((3,3),4,EMPType='S', seed=123)\n",
    "pieces[1] = _rotate(pieces[1],1)\n",
    "grid[0][0] = pieces.pop(0)\n"
   ]
  },
  {
   "cell_type": "code",
   "execution_count": 85,
   "metadata": {},
   "outputs": [
    {
     "data": {
      "image/png": "[encoded data removed]",
      "text/plain": [
       "<PIL.Image.Image image mode=RGB size=300x300 at 0x276E0A74048>"
      ]
     },
     "execution_count": 85,
     "metadata": {},
     "output_type": "execute_result"
    }
   ],
   "source": [
    "drawPuzzle(grid)"
   ]
  },
  {
   "cell_type": "code",
   "execution_count": 86,
   "metadata": {},
   "outputs": [
    {
     "data": {
      "text/plain": [
       "True"
      ]
     },
     "execution_count": 86,
     "metadata": {},
     "output_type": "execute_result"
    }
   ],
   "source": [
    "pieceMatch(grid,pieces[0],(1,0))"
   ]
  },
  {
   "cell_type": "code",
   "execution_count": 87,
   "metadata": {},
   "outputs": [
    {
     "data": {
      "image/png": "[encoded data removed]",
      "text/plain": [
       "<PIL.Image.Image image mode=RGB size=300x300 at 0x276E0A74C50>"
      ]
     },
     "execution_count": 87,
     "metadata": {},
     "output_type": "execute_result"
    }
   ],
   "source": [
    "grid[0][1] = pieces.pop(0)\n",
    "drawPuzzle(grid)"
   ]
  },
  {
   "cell_type": "code",
   "execution_count": 2,
   "metadata": {
    "collapsed": true
   },
   "outputs": [],
   "source": [
    "from EMP.EMP import _rotate, _validPiece, _emptyPiece"
   ]
  },
  {
   "cell_type": "code",
   "execution_count": 83,
   "metadata": {
    "collapsed": true
   },
   "outputs": [],
   "source": [
    "def pieceMatch(grid, piece, position):\n",
    "    gridSize_Y = len(grid)\n",
    "    gridSize_X = len(grid[0])\n",
    "    idxRow = position[1]\n",
    "    idxPiece = position[0]\n",
    "    isMatch = False\n",
    "    for i in range(4):\n",
    "        piece[:] = _rotate(piece, 1)\n",
    "        isMatch = True\n",
    "        #left edge\n",
    "        if not(idxPiece == 0  or not _validPiece(grid[idxRow][idxPiece-1])):\n",
    "            if not _emptyPiece(grid[idxRow][idxPiece-1]):\n",
    "                if piece[0] != grid[idxRow][idxPiece-1][2]: \n",
    "                    isMatch = False\n",
    "            \n",
    "        #top edge\n",
    "        if not(idxRow == 0 or not _validPiece(grid[idxRow-1][idxPiece])):\n",
    "            if not _emptyPiece(grid[idxRow-1][idxPiece]):\n",
    "                if piece[1] != grid[idxRow-1][idxPiece][3]:\n",
    "                    isMatch = False\n",
    "        #right edge\n",
    "        if not(idxPiece == gridSize_X-1 or not _validPiece(grid[idxRow][idxPiece+1])):\n",
    "            if not _emptyPiece(grid[idxRow][idxPiece+1]):\n",
    "                if piece[2] != grid[idxRow][idxPiece+1][0]:                   \n",
    "                    isMatch = False\n",
    "        #bottom edge\n",
    "        if not(idxRow == gridSize_Y-1 or not _validPiece(grid[idxRow+1][idxPiece])):\n",
    "            if not _emptyPiece(grid[idxRow+1][idxPiece]):\n",
    "                if piece[3] != grid[idxRow+1][idxPiece][1]: \n",
    "                    isMatch = False\n",
    "            \n",
    "        if isMatch:\n",
    "            return True\n",
    "    \n",
    "    return False\n",
    "    \n",
    "        \n",
    "    "
   ]
  },
  {
   "cell_type": "code",
   "execution_count": 93,
   "metadata": {
    "collapsed": true
   },
   "outputs": [],
   "source": [
    "def nextPosition(grid, currentPos):\n",
    "    gridSize_Y = len(grid)\n",
    "    gridSize_X = len(grid[0])\n",
    "    pos = None\n",
    "    while pos == None or not _validPiece(grid[pos[0]][pos[1]]):\n",
    "        if currentPos[0] == gridSize_X-1:\n",
    "            pos = [0,currentPos[1]+1]\n",
    "        else:\n",
    "            pos = [currentPos[0]+1, currentPos[1]]\n",
    "        \n",
    "        if pos[1] >= gridSize_Y:\n",
    "            return False\n",
    "    return pos\n",
    "    \n",
    "    \n",
    "def BT(grid,pieces,position):\n",
    "    if position == False:\n",
    "        return True\n",
    "    \n",
    "    gridSize_Y = len(grid)\n",
    "    gridSize_X = len(grid[0])\n",
    "    pos = list(position)\n",
    "    for piece in pieces:\n",
    "        if pieceMatch(grid, piece, pos):\n",
    "            grid[pos[0]][pos[1]] = piece\n",
    "            drawPuzzle(grid).show()\n",
    "            pieces.remove(piece[:])\n",
    "            if BT(grid, pieces, nextPosition(grid, position)):\n",
    "                return True\n",
    "            else:\n",
    "                pieces.append(grid[pos[0]][pos[1]])\n",
    "                grid[pos[0]][pos[1]] = [-2, -2, -2, -2]\n",
    "                drawPuzzle(grid).show()\n",
    "\n",
    "                \n",
    "    return False\n",
    "        \n",
    "\n",
    "        \n",
    "    "
   ]
  },
  {
   "cell_type": "code",
   "execution_count": 94,
   "metadata": {},
   "outputs": [],
   "source": [
    "grid=[[[ -2 for x in range(4)]for y in range(2)] for p in range(2)]\n",
    "\n",
    "pieces, id = generatePuzzle((2,2),4,EMPType='S', seed=123)\n"
   ]
  },
  {
   "cell_type": "code",
   "execution_count": 95,
   "metadata": {},
   "outputs": [
    {
     "data": {
      "text/plain": [
       "True"
      ]
     },
     "execution_count": 95,
     "metadata": {},
     "output_type": "execute_result"
    }
   ],
   "source": [
    "BT(grid,pieces,[0,0])"
   ]
  },
  {
   "cell_type": "code",
   "execution_count": 57,
   "metadata": {},
   "outputs": [
    {
     "data": {
      "image/png": "[encoded data removed]",
      "text/plain": [
       "<PIL.Image.Image image mode=RGB size=200x200 at 0x276E0A4B1D0>"
      ]
     },
     "execution_count": 57,
     "metadata": {},
     "output_type": "execute_result"
    }
   ],
   "source": [
    "drawPuzzle(grid)"
   ]
  },
  {
   "cell_type": "code",
   "execution_count": null,
   "metadata": {},
   "outputs": [],
   "source": [
    "for i in range(1,4):\n",
    "    print(i)"
   ]
  },
  {
   "cell_type": "code",
   "execution_count": 25,
   "metadata": {},
   "outputs": [
    {
     "ename": "TypeError",
     "evalue": "list indices must be integers or slices, not list",
     "output_type": "error",
     "traceback": [
      "\u001b[1;31m---------------------------------------------------------------------------\u001b[0m",
      "\u001b[1;31mTypeError\u001b[0m                                 Traceback (most recent call last)",
      "\u001b[1;32m<ipython-input-25-2c294ecabcb5>\u001b[0m in \u001b[0;36m<module>\u001b[1;34m()\u001b[0m\n\u001b[0;32m      1\u001b[0m \u001b[0mps\u001b[0m\u001b[1;33m=\u001b[0m\u001b[1;33m[\u001b[0m\u001b[1;36m0\u001b[0m\u001b[1;33m,\u001b[0m\u001b[1;36m1\u001b[0m\u001b[1;33m]\u001b[0m\u001b[1;33m\u001b[0m\u001b[0m\n\u001b[1;32m----> 2\u001b[1;33m \u001b[0mgrid\u001b[0m\u001b[1;33m[\u001b[0m\u001b[0mps\u001b[0m\u001b[1;33m[\u001b[0m\u001b[1;33m:\u001b[0m\u001b[1;33m]\u001b[0m\u001b[1;33m]\u001b[0m\u001b[1;33m\u001b[0m\u001b[0m\n\u001b[0m",
      "\u001b[1;31mTypeError\u001b[0m: list indices must be integers or slices, not list"
     ]
    }
   ],
   "source": [
    "ps=[0,1]\n",
    "grid[ps[:]]"
   ]
  },
  {
   "cell_type": "code",
   "execution_count": 34,
   "metadata": {
    "collapsed": true
   },
   "outputs": [],
   "source": [
    "temp = [ [1,2,3,4], [2,3,4,5], [1,2,3,4]]\n",
    "a = temp[0]"
   ]
  },
  {
   "cell_type": "code",
   "execution_count": 35,
   "metadata": {},
   "outputs": [],
   "source": [
    "temp.remove(a[:])"
   ]
  },
  {
   "cell_type": "markdown",
   "metadata": {},
   "source": [
    "temp"
   ]
  },
  {
   "cell_type": "code",
   "execution_count": 36,
   "metadata": {},
   "outputs": [
    {
     "data": {
      "text/plain": [
       "[[2, 3, 4, 5], [1, 2, 3, 4]]"
      ]
     },
     "execution_count": 36,
     "metadata": {},
     "output_type": "execute_result"
    }
   ],
   "source": [
    "temp"
   ]
  },
  {
   "cell_type": "code",
   "execution_count": null,
   "metadata": {
    "collapsed": true
   },
   "outputs": [],
   "source": []
  }
 ],
 "metadata": {
  "kernelspec": {
   "display_name": "Python 3",
   "language": "python",
   "name": "python3"
  },
  "language_info": {
   "codemirror_mode": {
    "name": "ipython",
    "version": 3
   },
   "file_extension": ".py",
   "mimetype": "text/x-python",
   "name": "python",
   "nbconvert_exporter": "python",
   "pygments_lexer": "ipython3",
   "version": "3.6.1"
  }
 },
 "nbformat": 4,
 "nbformat_minor": 2
}
