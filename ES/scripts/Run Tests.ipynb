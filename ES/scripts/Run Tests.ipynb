{
 "cells": [
  {
   "cell_type": "code",
   "execution_count": 1,
   "metadata": {},
   "outputs": [],
   "source": [
    "import os\n",
    "import sys\n",
    "module_path = os.path.abspath(os.path.join('../..'))\n",
    "if module_path not in sys.path:\n",
    "    sys.path.append(module_path)\n",
    "import time\n",
    "\n",
    "from EMP.Algorithms.BT import BT\n",
    "from EMP.EMP import drawPuzzle, loadPieces, generatePuzzle"
   ]
  },
  {
   "cell_type": "markdown",
   "metadata": {},
   "source": [
    "# Squared Framed Back Tracking"
   ]
  },
  {
   "cell_type": "markdown",
   "metadata": {},
   "source": [
    "## 3x3"
   ]
  },
  {
   "cell_type": "code",
   "execution_count": 11,
   "metadata": {},
   "outputs": [],
   "source": [
    "dataFile =\"../ESData/SF/3x3/\"\n",
    "resultFile=\"../ESResults/BT/SF/3x3/\""
   ]
  },
  {
   "cell_type": "code",
   "execution_count": 12,
   "metadata": {},
   "outputs": [],
   "source": [
    "for color in range(2,9):\n",
    "    direc = dataFile+str(color)+'/'\n",
    "    results = list()\n",
    "    with open(direc+'all_files.txt') as f:\n",
    "        lines = [line.rstrip('\\n') for line in f]\n",
    "    for line in lines:\n",
    "        pieces = loadPieces(direc+line)\n",
    "        alg = BT(pieces, (3,3))\n",
    "        start = time.time()\n",
    "        alg.search()\n",
    "        end = time.time()\n",
    "        results.append((line.rstrip('.csv'),end-start))\n",
    "        drawPuzzle(alg.grid).save(resultFile+'images/'+line.rstrip('.csv')+'.png', format='png')\n",
    "    file = open(resultFile+str(color)+'.csv', 'w')\n",
    "    for result in results:\n",
    "        file.write(str(result[0])+','+str(result[1])+'\\n')\n",
    "    file.close()\n",
    "    \n",
    "        \n",
    "    "
   ]
  },
  {
   "cell_type": "markdown",
   "metadata": {},
   "source": [
    "## 4x4"
   ]
  },
  {
   "cell_type": "code",
   "execution_count": 13,
   "metadata": {},
   "outputs": [],
   "source": [
    "dataFile =\"../ESData/SF/4x4/\"\n",
    "resultFile=\"../ESResults/BT/SF/4x4/\""
   ]
  },
  {
   "cell_type": "code",
   "execution_count": 14,
   "metadata": {},
   "outputs": [],
   "source": [
    "for color in range(2,16):\n",
    "    direc = dataFile+str(color)+'/'\n",
    "    results = list()\n",
    "    with open(direc+'all_files.txt') as f:\n",
    "        lines = [line.rstrip('\\n') for line in f]\n",
    "    for line in lines:\n",
    "        pieces = loadPieces(direc+line)\n",
    "        alg = BT(pieces, (4,4))\n",
    "        start = time.time()\n",
    "        alg.search()\n",
    "        end = time.time()\n",
    "        results.append((line.rstrip('.csv'),end-start))\n",
    "        drawPuzzle(alg.grid).save(resultFile+'images/'+line.rstrip('.csv')+'.png', format='png')\n",
    "       # time.sleep(1)\n",
    "    file = open(resultFile+str(color)+'.csv', 'w')\n",
    "    for result in results:\n",
    "        file.write(str(result[0])+','+str(result[1])+'\\n')\n",
    "    file.close()\n",
    "    "
   ]
  },
  {
   "cell_type": "markdown",
   "metadata": {},
   "source": [
    "## 5x5"
   ]
  },
  {
   "cell_type": "code",
   "execution_count": 15,
   "metadata": {},
   "outputs": [],
   "source": [
    "dataFile =\"../ESData/SF/5x5/\"\n",
    "resultFile=\"../ESResults/BT/SF/5x5/\""
   ]
  },
  {
   "cell_type": "code",
   "execution_count": 16,
   "metadata": {},
   "outputs": [],
   "source": [
    "for color in range(2,24):\n",
    "    direc = dataFile+str(color)+'/'\n",
    "    results = list()\n",
    "    with open(direc+'all_files.txt') as f:\n",
    "        lines = [line.rstrip('\\n') for line in f]\n",
    "    for line in lines:\n",
    "        pieces = loadPieces(direc+line)\n",
    "        alg = BT(pieces, (5,5))\n",
    "        start = time.time()\n",
    "        alg.search()\n",
    "        end = time.time()\n",
    "        results.append((line.rstrip('.csv'),end-start))\n",
    "        drawPuzzle(alg.grid).save(resultFile+'images/'+line.rstrip('.csv')+'.png', format='png')\n",
    "       # time.sleep(1)\n",
    "    file = open(resultFile+str(color)+'.csv', 'w')\n",
    "    for result in results:\n",
    "        file.write(str(result[0])+','+str(result[1])+'\\n')\n",
    "    file.close()\n",
    "    "
   ]
  },
  {
   "cell_type": "markdown",
   "metadata": {},
   "source": [
    "## 6x6"
   ]
  },
  {
   "cell_type": "code",
   "execution_count": null,
   "metadata": {},
   "outputs": [],
   "source": [
    "dataFile =\"../ESData/SF/5x5/\"\n",
    "resultFile=\"../ESResults/BT/SF/6x6/\""
   ]
  },
  {
   "cell_type": "code",
   "execution_count": null,
   "metadata": {},
   "outputs": [],
   "source": [
    "for color in range(2,31):\n",
    "    direc = dataFile+str(color)+'/'\n",
    "    results = list()\n",
    "    with open(direc+'all_files.txt') as f:\n",
    "        lines = [line.rstrip('\\n') for line in f]\n",
    "    for line in lines:\n",
    "        pieces = loadPieces(direc+line)\n",
    "        alg = BT(pieces, (6,6))\n",
    "        start = time.time()\n",
    "        alg.search()\n",
    "        end = time.time()\n",
    "        results.append((line.rstrip('.csv'),end-start))\n",
    "        drawPuzzle(alg.grid).save(resultFile+'images/'+line.rstrip('.csv')+'.png', format='png')\n",
    "       # time.sleep(1)\n",
    "    file = open(resultFile+str(color)+'.csv', 'w')\n",
    "    for result in results:\n",
    "        file.write(str(result[0])+','+str(result[1])+'\\n')\n",
    "    file.close()\n",
    "    "
   ]
  },
  {
   "cell_type": "markdown",
   "metadata": {},
   "source": [
    "# Squared None Framed Back Tracking No Rotation"
   ]
  },
  {
   "cell_type": "markdown",
   "metadata": {},
   "source": [
    "## 2x2"
   ]
  },
  {
   "cell_type": "code",
   "execution_count": 6,
   "metadata": {},
   "outputs": [],
   "source": [
    "dataFile =\"../ESData/S/2x2/\"\n",
    "resultFile=\"../ESResults/BT/S/2x2/\""
   ]
  },
  {
   "cell_type": "code",
   "execution_count": 7,
   "metadata": {},
   "outputs": [],
   "source": [
    "for color in range(2,5):\n",
    "    direc = dataFile+str(color)+'/'\n",
    "    results = list()\n",
    "    with open(direc+'all_files.txt') as f:\n",
    "        lines = [line.rstrip('\\n') for line in f]\n",
    "    for line in lines:\n",
    "        pieces = loadPieces(direc+line)\n",
    "        alg = BT(pieces, (2,2), EMPType='S', rotate=False)\n",
    "        start = time.time()\n",
    "        alg.search()\n",
    "        end = time.time()\n",
    "        results.append((line.rstrip('.csv'),end-start))\n",
    "        drawPuzzle(alg.grid).save(resultFile+'images/'+line.rstrip('.csv')+'.png', format='png')\n",
    "    file = open(resultFile+str(color)+'.csv', 'w')\n",
    "    for result in results:\n",
    "        file.write(str(result[0])+','+str(result[1])+'\\n')\n",
    "    file.close()\n",
    "    \n",
    "        \n",
    "    "
   ]
  },
  {
   "cell_type": "markdown",
   "metadata": {},
   "source": [
    "## 3x3"
   ]
  },
  {
   "cell_type": "code",
   "execution_count": 8,
   "metadata": {},
   "outputs": [],
   "source": [
    "dataFile =\"../ESData/S/3x3/\"\n",
    "resultFile=\"../ESResults/BT/S/3x3/\""
   ]
  },
  {
   "cell_type": "code",
   "execution_count": 9,
   "metadata": {},
   "outputs": [],
   "source": [
    "for color in range(2,9):\n",
    "    direc = dataFile+str(color)+'/'\n",
    "    results = list()\n",
    "    with open(direc+'all_files.txt') as f:\n",
    "        lines = [line.rstrip('\\n') for line in f]\n",
    "    for line in lines:\n",
    "        pieces = loadPieces(direc+line)\n",
    "        alg = BT(pieces, (3,3), EMPType='S', rotate=False)\n",
    "        start = time.time()\n",
    "        alg.search()\n",
    "        end = time.time()\n",
    "        results.append((line.rstrip('.csv'),end-start))\n",
    "        drawPuzzle(alg.grid).save(resultFile+'images/'+line.rstrip('.csv')+'.png', format='png')\n",
    "    file = open(resultFile+str(color)+'.csv', 'w')\n",
    "    for result in results:\n",
    "        file.write(str(result[0])+','+str(result[1])+'\\n')\n",
    "    file.close()\n",
    "    \n",
    "        \n",
    "    "
   ]
  },
  {
   "cell_type": "markdown",
   "metadata": {},
   "source": [
    "## 4x4"
   ]
  },
  {
   "cell_type": "code",
   "execution_count": 10,
   "metadata": {},
   "outputs": [],
   "source": [
    "dataFile =\"../ESData/S/4x4/\"\n",
    "resultFile=\"../ESResults/BT/S/4x4/\""
   ]
  },
  {
   "cell_type": "code",
   "execution_count": 11,
   "metadata": {},
   "outputs": [],
   "source": [
    "for color in range(2,16):\n",
    "    direc = dataFile+str(color)+'/'\n",
    "    results = list()\n",
    "    with open(direc+'all_files.txt') as f:\n",
    "        lines = [line.rstrip('\\n') for line in f]\n",
    "    for line in lines:\n",
    "        pieces = loadPieces(direc+line)\n",
    "        alg = BT(pieces, (4,4), EMPType='S', rotate=False)\n",
    "        start = time.time()\n",
    "        alg.search()\n",
    "        end = time.time()\n",
    "        results.append((line.rstrip('.csv'),end-start))\n",
    "        drawPuzzle(alg.grid).save(resultFile+'images/'+line.rstrip('.csv')+'.png', format='png')\n",
    "    file = open(resultFile+str(color)+'.csv', 'w')\n",
    "    for result in results:\n",
    "        file.write(str(result[0])+','+str(result[1])+'\\n')\n",
    "    file.close()\n",
    "    \n",
    "        \n",
    "    "
   ]
  },
  {
   "cell_type": "markdown",
   "metadata": {},
   "source": [
    "## 5x5"
   ]
  },
  {
   "cell_type": "code",
   "execution_count": 19,
   "metadata": {},
   "outputs": [],
   "source": [
    "dataFile =\"../ESData/S/5x5/\"\n",
    "resultFile=\"../ESResults/BT/S/5x5/\""
   ]
  },
  {
   "cell_type": "code",
   "execution_count": null,
   "metadata": {},
   "outputs": [],
   "source": [
    "for color in range(2,25):\n",
    "    direc = dataFile+str(color)+'/'\n",
    "    results = list()\n",
    "    with open(direc+'all_files.txt') as f:\n",
    "        lines = [line.rstrip('\\n') for line in f]\n",
    "    for line in lines:\n",
    "        pieces = loadPieces(direc+line)\n",
    "        alg = BT(pieces, (5,5), EMPType='S', rotate=False)\n",
    "        start = time.time()\n",
    "        alg.search()\n",
    "        end = time.time()\n",
    "        results.append((line.rstrip('.csv'),end-start))\n",
    "        drawPuzzle(alg.grid).save(resultFile+'images/'+line.rstrip('.csv')+'.png', format='png')\n",
    "    file = open(resultFile+str(color)+'.csv', 'w')\n",
    "    for result in results:\n",
    "        file.write(str(result[0])+','+str(result[1])+'\\n')\n",
    "    file.close()\n",
    "    \n",
    "        \n",
    "    "
   ]
  },
  {
   "cell_type": "markdown",
   "metadata": {},
   "source": [
    "## 6x6"
   ]
  },
  {
   "cell_type": "code",
   "execution_count": null,
   "metadata": {},
   "outputs": [],
   "source": [
    "dataFile =\"../ESData/S/6x6/\"\n",
    "resultFile=\"../ESResults/BT/S/6x6/\""
   ]
  },
  {
   "cell_type": "code",
   "execution_count": null,
   "metadata": {},
   "outputs": [],
   "source": [
    "for color in range(2,25):\n",
    "    direc = dataFile+str(color)+'/'\n",
    "    results = list()\n",
    "    with open(direc+'all_files.txt') as f:\n",
    "        lines = [line.rstrip('\\n') for line in f]\n",
    "    for line in lines:\n",
    "        pieces = loadPieces(direc+line)\n",
    "        alg = BT(pieces, (6,6), EMPType='S', rotate=False)\n",
    "        start = time.time()\n",
    "        alg.search()\n",
    "        end = time.time()\n",
    "        results.append((line.rstrip('.csv'),end-start))\n",
    "        drawPuzzle(alg.grid).save(resultFile+'images/'+line.rstrip('.csv')+'.png', format='png')\n",
    "    file = open(resultFile+str(color)+'.csv', 'w')\n",
    "    for result in results:\n",
    "        file.write(str(result[0])+','+str(result[1])+'\\n')\n",
    "    file.close()\n",
    "    \n",
    "        \n",
    "    "
   ]
  },
  {
   "cell_type": "code",
   "execution_count": null,
   "metadata": {},
   "outputs": [],
   "source": []
  }
 ],
 "metadata": {
  "kernelspec": {
   "display_name": "Python 3",
   "language": "python",
   "name": "python3"
  },
  "language_info": {
   "codemirror_mode": {
    "name": "ipython",
    "version": 3
   },
   "file_extension": ".py",
   "mimetype": "text/x-python",
   "name": "python",
   "nbconvert_exporter": "python",
   "pygments_lexer": "ipython3",
   "version": "3.6.5"
  }
 },
 "nbformat": 4,
 "nbformat_minor": 2
}
