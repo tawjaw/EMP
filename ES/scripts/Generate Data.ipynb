{
 "cells": [
  {
   "cell_type": "code",
   "execution_count": 1,
   "metadata": {},
   "outputs": [],
   "source": [
    "import os\n",
    "import sys\n",
    "module_path = os.path.abspath(os.path.join('../..'))\n",
    "if module_path not in sys.path:\n",
    "    sys.path.append(module_path)\n",
    "\n",
    "from EMP.EMP import drawPuzzle, generatePuzzle, isCorrect, savePieces, loadPieces\n",
    "import random\n",
    "import time\n"
   ]
  },
  {
   "cell_type": "markdown",
   "metadata": {},
   "source": [
    "# Square Framed Puzzle\n",
    "\n",
    "## 3x3"
   ]
  },
  {
   "cell_type": "code",
   "execution_count": 6,
   "metadata": {},
   "outputs": [],
   "source": [
    "dataFile =\"../ESData/SF/3x3/\""
   ]
  },
  {
   "cell_type": "code",
   "execution_count": 16,
   "metadata": {},
   "outputs": [],
   "source": [
    "for color in range(2,9):\n",
    "    files = list()\n",
    "    for i in range(30):\n",
    "        pieces, id = generatePuzzle((3,3), color)\n",
    "        savePieces(pieces,dataFile+'/'+str(color)+'/'+id+'.csv')\n",
    "        files.append(id+'.csv')\n",
    "\n",
    "    file = open(dataFile+'/'+str(color)+'/all_files.txt', 'w')\n",
    "    for fl in files:\n",
    "        file.write(fl+'\\n')\n",
    "    file.close()"
   ]
  },
  {
   "cell_type": "markdown",
   "metadata": {},
   "source": [
    "## 4x4"
   ]
  },
  {
   "cell_type": "code",
   "execution_count": 17,
   "metadata": {},
   "outputs": [],
   "source": [
    "dataFile =\"../ESData/SF/4x4/\""
   ]
  },
  {
   "cell_type": "code",
   "execution_count": 20,
   "metadata": {},
   "outputs": [],
   "source": [
    "for color in range(2,16):\n",
    "    files = list()\n",
    "    for i in range(30):\n",
    "        pieces, id = generatePuzzle((4,4), color)\n",
    "        savePieces(pieces,dataFile+'/'+str(color)+'/'+id+'.csv')\n",
    "        files.append(id+'.csv')\n",
    "\n",
    "    file = open(dataFile+'/'+str(color)+'/all_files.txt', 'w')\n",
    "    for fl in files:\n",
    "        file.write(fl+'\\n')\n",
    "    file.close()"
   ]
  },
  {
   "cell_type": "markdown",
   "metadata": {},
   "source": [
    "## 5x5"
   ]
  },
  {
   "cell_type": "code",
   "execution_count": 21,
   "metadata": {},
   "outputs": [],
   "source": [
    "dataFile =\"../ESData/SF/5x5/\""
   ]
  },
  {
   "cell_type": "code",
   "execution_count": 23,
   "metadata": {},
   "outputs": [],
   "source": [
    "for color in range(2,24):\n",
    "    files = list()\n",
    "    for i in range(30):\n",
    "        pieces, id = generatePuzzle((5,5), color)\n",
    "        savePieces(pieces,dataFile+'/'+str(color)+'/'+id+'.csv')\n",
    "        files.append(id+'.csv')\n",
    "\n",
    "    file = open(dataFile+'/'+str(color)+'/all_files.txt', 'w')\n",
    "    for fl in files:\n",
    "        file.write(fl+'\\n')\n",
    "    file.close()"
   ]
  },
  {
   "cell_type": "markdown",
   "metadata": {},
   "source": [
    "## 6x6"
   ]
  },
  {
   "cell_type": "code",
   "execution_count": 24,
   "metadata": {},
   "outputs": [],
   "source": [
    "dataFile =\"../ESData/SF/6x6/\""
   ]
  },
  {
   "cell_type": "code",
   "execution_count": 26,
   "metadata": {},
   "outputs": [],
   "source": [
    "for color in range(2,31):\n",
    "    files = list()\n",
    "    for i in range(30):\n",
    "        pieces, id = generatePuzzle((6,6), color)\n",
    "        savePieces(pieces,dataFile+'/'+str(color)+'/'+id+'.csv')\n",
    "        files.append(id+'.csv')\n",
    "\n",
    "    file = open(dataFile+'/'+str(color)+'/all_files.txt', 'w')\n",
    "    for fl in files:\n",
    "        file.write(fl+'\\n')\n",
    "    file.close()"
   ]
  },
  {
   "cell_type": "markdown",
   "metadata": {},
   "source": [
    "# Square None Framed Puzzle No Rotation\n",
    "\n",
    "## 2x2"
   ]
  },
  {
   "cell_type": "code",
   "execution_count": 16,
   "metadata": {},
   "outputs": [],
   "source": [
    "dataFile =\"../ESData/S/2x2/\""
   ]
  },
  {
   "cell_type": "code",
   "execution_count": 17,
   "metadata": {},
   "outputs": [],
   "source": [
    "for color in range(2,5):\n",
    "    files = list()\n",
    "    for i in range(1000):\n",
    "        pieces, id = generatePuzzle((2,2), color, EMPType='S', rotate=False, seed=i)\n",
    "        savePieces(pieces,dataFile+'/'+str(color)+'/'+id+'.csv')\n",
    "        files.append(id+'.csv')\n",
    "\n",
    "    file = open(dataFile+'/'+str(color)+'/all_files.txt', 'w')\n",
    "    for fl in files:\n",
    "        file.write(fl+'\\n')\n",
    "    file.close()"
   ]
  },
  {
   "cell_type": "code",
   "execution_count": null,
   "metadata": {},
   "outputs": [],
   "source": []
  },
  {
   "cell_type": "markdown",
   "metadata": {},
   "source": [
    "## 3x3"
   ]
  },
  {
   "cell_type": "code",
   "execution_count": 19,
   "metadata": {},
   "outputs": [],
   "source": [
    "dataFile =\"../ESData/S/3x3/\""
   ]
  },
  {
   "cell_type": "code",
   "execution_count": 20,
   "metadata": {},
   "outputs": [],
   "source": [
    "for color in range(2,9):\n",
    "    files = list()\n",
    "    for i in range(1000):\n",
    "        pieces, id = generatePuzzle((3,3), color, EMPType='S', rotate=False, seed=i)\n",
    "        savePieces(pieces,dataFile+'/'+str(color)+'/'+id+'.csv')\n",
    "        files.append(id+'.csv')\n",
    "\n",
    "    file = open(dataFile+'/'+str(color)+'/all_files.txt', 'w')\n",
    "    for fl in files:\n",
    "        file.write(fl+'\\n')\n",
    "    file.close()"
   ]
  },
  {
   "cell_type": "markdown",
   "metadata": {},
   "source": [
    "## 4x4"
   ]
  },
  {
   "cell_type": "code",
   "execution_count": 21,
   "metadata": {},
   "outputs": [],
   "source": [
    "dataFile =\"../ESData/S/4x4/\""
   ]
  },
  {
   "cell_type": "code",
   "execution_count": 22,
   "metadata": {},
   "outputs": [],
   "source": [
    "for color in range(2,16):\n",
    "    files = list()\n",
    "    for i in range(1000):\n",
    "        pieces, id = generatePuzzle((4,4), color, EMPType='S', rotate=False, seed=i)\n",
    "        savePieces(pieces,dataFile+'/'+str(color)+'/'+id+'.csv')\n",
    "        files.append(id+'.csv')\n",
    "\n",
    "    file = open(dataFile+'/'+str(color)+'/all_files.txt', 'w')\n",
    "    for fl in files:\n",
    "        file.write(fl+'\\n')\n",
    "    file.close()"
   ]
  },
  {
   "cell_type": "markdown",
   "metadata": {},
   "source": [
    "## 5x5"
   ]
  },
  {
   "cell_type": "code",
   "execution_count": 24,
   "metadata": {},
   "outputs": [],
   "source": [
    "dataFile =\"../ESData/S/5x5/\""
   ]
  },
  {
   "cell_type": "code",
   "execution_count": 25,
   "metadata": {},
   "outputs": [],
   "source": [
    "for color in range(2,25):\n",
    "    files = list()\n",
    "    for i in range(1000):\n",
    "        pieces, id = generatePuzzle((5,5), color, EMPType='S', rotate=False, seed=i)\n",
    "        savePieces(pieces,dataFile+'/'+str(color)+'/'+id+'.csv')\n",
    "        files.append(id+'.csv')\n",
    "\n",
    "    file = open(dataFile+'/'+str(color)+'/all_files.txt', 'w')\n",
    "    for fl in files:\n",
    "        file.write(fl+'\\n')\n",
    "    file.close()"
   ]
  },
  {
   "cell_type": "markdown",
   "metadata": {},
   "source": [
    "## 6x6"
   ]
  },
  {
   "cell_type": "code",
   "execution_count": 26,
   "metadata": {},
   "outputs": [],
   "source": [
    "dataFile =\"../ESData/S/6x6/\""
   ]
  },
  {
   "cell_type": "code",
   "execution_count": 27,
   "metadata": {},
   "outputs": [],
   "source": [
    "for color in range(2,25):\n",
    "    files = list()\n",
    "    for i in range(1000):\n",
    "        pieces, id = generatePuzzle((6,6), color, EMPType='S', rotate=False, seed=i)\n",
    "        savePieces(pieces,dataFile+'/'+str(color)+'/'+id+'.csv')\n",
    "        files.append(id+'.csv')\n",
    "\n",
    "    file = open(dataFile+'/'+str(color)+'/all_files.txt', 'w')\n",
    "    for fl in files:\n",
    "        file.write(fl+'\\n')\n",
    "    file.close()"
   ]
  },
  {
   "cell_type": "code",
   "execution_count": null,
   "metadata": {},
   "outputs": [],
   "source": []
  }
 ],
 "metadata": {
  "kernelspec": {
   "display_name": "Python 3",
   "language": "python",
   "name": "python3"
  },
  "language_info": {
   "codemirror_mode": {
    "name": "ipython",
    "version": 3
   },
   "file_extension": ".py",
   "mimetype": "text/x-python",
   "name": "python",
   "nbconvert_exporter": "python",
   "pygments_lexer": "ipython3",
   "version": "3.6.5"
  }
 },
 "nbformat": 4,
 "nbformat_minor": 2
}
